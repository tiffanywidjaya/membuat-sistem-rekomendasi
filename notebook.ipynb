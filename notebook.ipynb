{
  "cells": [
    {
      "cell_type": "markdown",
      "metadata": {
        "id": "G0flnY7jHMrW"
      },
      "source": [
        "# Sistem Rekomendasi Produk E-Commerce\n",
        "\n",
        "Notebook ini membangun sistem rekomendasi menggunakan dua pendekatan:  \n",
        "- **Content-Based Filtering (CBF)** berdasarkan deskripsi produk  \n",
        "- **Collaborative Filtering (CF)** menggunakan interaksi user + produk  \n",
        "\n",
        "Dataset diambil dari transaksi e-commerce UK, dengan total ~500.000 baris transaksi."
      ]
    },
    {
      "cell_type": "markdown",
      "metadata": {
        "id": "GXvoRW8tISJL"
      },
      "source": [
        "## Load Dataset\n",
        "\n",
        "Dataset dimuat dari file CSV. Menggunakan encoding ISO-8859-1 karena format aslinya bukan UTF-8."
      ]
    },
    {
      "cell_type": "code",
      "execution_count": 1,
      "metadata": {
        "colab": {
          "base_uri": "https://localhost:8080/",
          "height": 206
        },
        "id": "_iCVubtV32VP",
        "outputId": "68493d3e-ece3-4b6b-8e57-fde65c7da49e"
      },
      "outputs": [
        {
          "data": {
            "text/html": [
              "<div>\n",
              "<style scoped>\n",
              "    .dataframe tbody tr th:only-of-type {\n",
              "        vertical-align: middle;\n",
              "    }\n",
              "\n",
              "    .dataframe tbody tr th {\n",
              "        vertical-align: top;\n",
              "    }\n",
              "\n",
              "    .dataframe thead th {\n",
              "        text-align: right;\n",
              "    }\n",
              "</style>\n",
              "<table border=\"1\" class=\"dataframe\">\n",
              "  <thead>\n",
              "    <tr style=\"text-align: right;\">\n",
              "      <th></th>\n",
              "      <th>InvoiceNo</th>\n",
              "      <th>StockCode</th>\n",
              "      <th>Description</th>\n",
              "      <th>Quantity</th>\n",
              "      <th>InvoiceDate</th>\n",
              "      <th>UnitPrice</th>\n",
              "      <th>CustomerID</th>\n",
              "      <th>Country</th>\n",
              "    </tr>\n",
              "  </thead>\n",
              "  <tbody>\n",
              "    <tr>\n",
              "      <th>0</th>\n",
              "      <td>536365</td>\n",
              "      <td>85123A</td>\n",
              "      <td>WHITE HANGING HEART T-LIGHT HOLDER</td>\n",
              "      <td>6</td>\n",
              "      <td>12/1/2010 8:26</td>\n",
              "      <td>2.55</td>\n",
              "      <td>17850.0</td>\n",
              "      <td>United Kingdom</td>\n",
              "    </tr>\n",
              "    <tr>\n",
              "      <th>1</th>\n",
              "      <td>536365</td>\n",
              "      <td>71053</td>\n",
              "      <td>WHITE METAL LANTERN</td>\n",
              "      <td>6</td>\n",
              "      <td>12/1/2010 8:26</td>\n",
              "      <td>3.39</td>\n",
              "      <td>17850.0</td>\n",
              "      <td>United Kingdom</td>\n",
              "    </tr>\n",
              "    <tr>\n",
              "      <th>2</th>\n",
              "      <td>536365</td>\n",
              "      <td>84406B</td>\n",
              "      <td>CREAM CUPID HEARTS COAT HANGER</td>\n",
              "      <td>8</td>\n",
              "      <td>12/1/2010 8:26</td>\n",
              "      <td>2.75</td>\n",
              "      <td>17850.0</td>\n",
              "      <td>United Kingdom</td>\n",
              "    </tr>\n",
              "    <tr>\n",
              "      <th>3</th>\n",
              "      <td>536365</td>\n",
              "      <td>84029G</td>\n",
              "      <td>KNITTED UNION FLAG HOT WATER BOTTLE</td>\n",
              "      <td>6</td>\n",
              "      <td>12/1/2010 8:26</td>\n",
              "      <td>3.39</td>\n",
              "      <td>17850.0</td>\n",
              "      <td>United Kingdom</td>\n",
              "    </tr>\n",
              "    <tr>\n",
              "      <th>4</th>\n",
              "      <td>536365</td>\n",
              "      <td>84029E</td>\n",
              "      <td>RED WOOLLY HOTTIE WHITE HEART.</td>\n",
              "      <td>6</td>\n",
              "      <td>12/1/2010 8:26</td>\n",
              "      <td>3.39</td>\n",
              "      <td>17850.0</td>\n",
              "      <td>United Kingdom</td>\n",
              "    </tr>\n",
              "  </tbody>\n",
              "</table>\n",
              "</div>"
            ],
            "text/plain": [
              "  InvoiceNo StockCode                          Description  Quantity  \\\n",
              "0    536365    85123A   WHITE HANGING HEART T-LIGHT HOLDER         6   \n",
              "1    536365     71053                  WHITE METAL LANTERN         6   \n",
              "2    536365    84406B       CREAM CUPID HEARTS COAT HANGER         8   \n",
              "3    536365    84029G  KNITTED UNION FLAG HOT WATER BOTTLE         6   \n",
              "4    536365    84029E       RED WOOLLY HOTTIE WHITE HEART.         6   \n",
              "\n",
              "      InvoiceDate  UnitPrice  CustomerID         Country  \n",
              "0  12/1/2010 8:26       2.55     17850.0  United Kingdom  \n",
              "1  12/1/2010 8:26       3.39     17850.0  United Kingdom  \n",
              "2  12/1/2010 8:26       2.75     17850.0  United Kingdom  \n",
              "3  12/1/2010 8:26       3.39     17850.0  United Kingdom  \n",
              "4  12/1/2010 8:26       3.39     17850.0  United Kingdom  "
            ]
          },
          "execution_count": 1,
          "metadata": {},
          "output_type": "execute_result"
        }
      ],
      "source": [
        "import pandas as pd\n",
        "\n",
        "dataset_path = 'Dataset/data.csv'\n",
        "df = pd.read_csv(dataset_path, encoding='ISO-8859-1')\n",
        "\n",
        "df.head()"
      ]
    },
    {
      "cell_type": "markdown",
      "metadata": {
        "id": "kPfBJVhU9IQI"
      },
      "source": [
        "## Pemeriksaan Awal Dataset\n",
        "\n",
        "Pada tahap ini, dilakukan pemeriksaan awal terhadap struktur dan kualitas data yang digunakan, dengan menjalankan beberapa fungsi sebagai berikut:\n",
        "\n",
        "- `df.shape`  \n",
        "  Digunakan untuk melihat jumlah baris dan kolom dalam dataset.\n",
        "\n",
        "- `df.isnull().sum()`  \n",
        "  Untuk menghitung jumlah nilai kosong (missing values) pada setiap kolom.\n",
        "\n",
        "- `df.duplicated().sum()`  \n",
        "  Untuk mengecek jumlah baris duplikat dalam dataset.\n",
        "\n",
        "- `df.describe()`  \n",
        "  Menampilkan statistik deskriptif dari kolom numerik seperti:\n",
        "  - Rata-rata (`mean`)\n",
        "  - Standar deviasi (`std`)\n",
        "  - Nilai minimum dan maksimum (`min`, `max`)\n",
        "  - Kuartil (`25%`, `50%`, `75%`)\n",
        "\n",
        "Tujuan dari langkah ini adalah untuk mengidentifikasi:\n",
        "- Adanya **nilai kosong** yang perlu ditangani.\n",
        "- Adanya **baris duplikat** yang perlu dihapus.\n",
        "- Nilai-nilai **tidak valid** seperti `Quantity` atau `UnitPrice` yang ≤ 0.\n",
        "- Rentang nilai untuk memastikan data masuk akal sebelum proses cleaning lebih lanjut."
      ]
    },
    {
      "cell_type": "code",
      "execution_count": 2,
      "metadata": {
        "colab": {
          "base_uri": "https://localhost:8080/",
          "height": 491
        },
        "id": "Ca0BEm-u58ND",
        "outputId": "14d860b3-d8bd-49ff-c46e-17997532cd42"
      },
      "outputs": [
        {
          "name": "stdout",
          "output_type": "stream",
          "text": [
            "Jumlah baris dan kolom: (541909, 8)\n",
            "InvoiceNo           0\n",
            "StockCode           0\n",
            "Description      1454\n",
            "Quantity            0\n",
            "InvoiceDate         0\n",
            "UnitPrice           0\n",
            "CustomerID     135080\n",
            "Country             0\n",
            "dtype: int64\n",
            "5268\n"
          ]
        },
        {
          "data": {
            "text/html": [
              "<div>\n",
              "<style scoped>\n",
              "    .dataframe tbody tr th:only-of-type {\n",
              "        vertical-align: middle;\n",
              "    }\n",
              "\n",
              "    .dataframe tbody tr th {\n",
              "        vertical-align: top;\n",
              "    }\n",
              "\n",
              "    .dataframe thead th {\n",
              "        text-align: right;\n",
              "    }\n",
              "</style>\n",
              "<table border=\"1\" class=\"dataframe\">\n",
              "  <thead>\n",
              "    <tr style=\"text-align: right;\">\n",
              "      <th></th>\n",
              "      <th>Quantity</th>\n",
              "      <th>UnitPrice</th>\n",
              "      <th>CustomerID</th>\n",
              "    </tr>\n",
              "  </thead>\n",
              "  <tbody>\n",
              "    <tr>\n",
              "      <th>count</th>\n",
              "      <td>541909.000000</td>\n",
              "      <td>541909.000000</td>\n",
              "      <td>406829.000000</td>\n",
              "    </tr>\n",
              "    <tr>\n",
              "      <th>mean</th>\n",
              "      <td>9.552250</td>\n",
              "      <td>4.611114</td>\n",
              "      <td>15287.690570</td>\n",
              "    </tr>\n",
              "    <tr>\n",
              "      <th>std</th>\n",
              "      <td>218.081158</td>\n",
              "      <td>96.759853</td>\n",
              "      <td>1713.600303</td>\n",
              "    </tr>\n",
              "    <tr>\n",
              "      <th>min</th>\n",
              "      <td>-80995.000000</td>\n",
              "      <td>-11062.060000</td>\n",
              "      <td>12346.000000</td>\n",
              "    </tr>\n",
              "    <tr>\n",
              "      <th>25%</th>\n",
              "      <td>1.000000</td>\n",
              "      <td>1.250000</td>\n",
              "      <td>13953.000000</td>\n",
              "    </tr>\n",
              "    <tr>\n",
              "      <th>50%</th>\n",
              "      <td>3.000000</td>\n",
              "      <td>2.080000</td>\n",
              "      <td>15152.000000</td>\n",
              "    </tr>\n",
              "    <tr>\n",
              "      <th>75%</th>\n",
              "      <td>10.000000</td>\n",
              "      <td>4.130000</td>\n",
              "      <td>16791.000000</td>\n",
              "    </tr>\n",
              "    <tr>\n",
              "      <th>max</th>\n",
              "      <td>80995.000000</td>\n",
              "      <td>38970.000000</td>\n",
              "      <td>18287.000000</td>\n",
              "    </tr>\n",
              "  </tbody>\n",
              "</table>\n",
              "</div>"
            ],
            "text/plain": [
              "            Quantity      UnitPrice     CustomerID\n",
              "count  541909.000000  541909.000000  406829.000000\n",
              "mean        9.552250       4.611114   15287.690570\n",
              "std       218.081158      96.759853    1713.600303\n",
              "min    -80995.000000  -11062.060000   12346.000000\n",
              "25%         1.000000       1.250000   13953.000000\n",
              "50%         3.000000       2.080000   15152.000000\n",
              "75%        10.000000       4.130000   16791.000000\n",
              "max     80995.000000   38970.000000   18287.000000"
            ]
          },
          "execution_count": 2,
          "metadata": {},
          "output_type": "execute_result"
        }
      ],
      "source": [
        "print(f\"Jumlah baris dan kolom: {df.shape}\")\n",
        "print(df.isnull().sum())\n",
        "print(df.duplicated().sum())\n",
        "df.describe()"
      ]
    },
    {
      "cell_type": "markdown",
      "metadata": {
        "id": "15VuueUE8eeM"
      },
      "source": [
        "**Jumlah Data:**\n",
        "Dataset memiliki total 541.909 baris dan 8 kolom.\n",
        "\n",
        "**Missing Value:**\n",
        "Terdapat 1.454 baris dengan nilai kosong pada kolom Description.\n",
        "\n",
        "Kolom CustomerID memiliki 135.080 baris kosong, yang berarti sekitar 25% data tidak memiliki informasi pelanggan dan perlu dibersihkan.\n",
        "\n",
        "**Duplikasi:**\n",
        "Dataset terdeteksi memiliki 5.268 baris duplikat.\n",
        "\n",
        "| Kolom        | Temuan                                                                                                     |\n",
        "| ------------ | ---------------------------------------------------------------------------------------------------------- |\n",
        "| `Quantity`   | Terdapat nilai negatif hingga -80.995, menunjukkan kemungkinan retur atau error input.                     |\n",
        "| `UnitPrice`  | Ada nilai negatif hingga -11.062, yang seharusnya tidak terjadi. Harga produk seharusnya bernilai positif. |\n",
        "| `CustomerID` | Rentang ID pelanggan mulai dari 12346 hingga 18287. Tidak ada kejanggalan dari nilai minimum dan maksimum. |"
      ]
    },
    {
      "cell_type": "markdown",
      "metadata": {
        "id": "t-tJb-twIb95"
      },
      "source": [
        "## Data Cleaning\n",
        "\n",
        "Tahap pembersihan dilakukan untuk memastikan data yang digunakan valid.  \n",
        "Langkah-langkah cleaning mencakup:\n",
        "- Menghapus transaksi retur (`InvoiceNo` diawali 'C')\n",
        "- Menghapus produk dengan jumlah ≤ 0 atau harga ≤ 0\n",
        "- Menghapus entri dengan `CustomerID` atau `Description` yang kosong"
      ]
    },
    {
      "cell_type": "code",
      "execution_count": 3,
      "metadata": {
        "id": "J0JgvFeZ4UpO"
      },
      "outputs": [],
      "source": [
        "df = df[~df['InvoiceNo'].astype(str).str.startswith('C')]"
      ]
    },
    {
      "cell_type": "markdown",
      "metadata": {
        "id": "b4KBgEfVIgUD"
      },
      "source": [
        "## Analisis Dasar Dataset\n",
        "\n",
        "Setelah data dibersihkan, dilakukan perhitungan jumlah customer dan produk unik untuk memahami skala sistem rekomendasi yang akan dibuat."
      ]
    },
    {
      "cell_type": "code",
      "execution_count": 4,
      "metadata": {
        "id": "hEkHWko45CXN"
      },
      "outputs": [],
      "source": [
        "df = df[(df['Quantity'] > 0) & (df['UnitPrice'] > 0)]"
      ]
    },
    {
      "cell_type": "markdown",
      "metadata": {
        "id": "Kz2-80snI2yZ"
      },
      "source": [
        "### Menghapus Baris dengan Nilai Kosong\n",
        "\n",
        "Kolom `CustomerID` dan `Description` merupakan atribut penting dalam membangun sistem rekomendasi.  \n",
        "Karena itu, baris dengan nilai kosong pada kolom tersebut dihapus."
      ]
    },
    {
      "cell_type": "code",
      "execution_count": 5,
      "metadata": {
        "id": "GNNCSr5z5DwN"
      },
      "outputs": [],
      "source": [
        "df = df.dropna(subset=['CustomerID', 'Description'])"
      ]
    },
    {
      "cell_type": "markdown",
      "metadata": {
        "id": "JK4Jyur_KNjj"
      },
      "source": [
        "### Statistik Dasar Dataset\n",
        "\n",
        "Untuk memahami skala sistem rekomendasi, dilakukan perhitungan jumlah customer unik dan produk unik dalam dataset.  \n",
        "Jumlah ini akan menentukan ukuran dan kompleksitas matrix pada pendekatan collaborative filtering."
      ]
    },
    {
      "cell_type": "code",
      "execution_count": 6,
      "metadata": {
        "colab": {
          "base_uri": "https://localhost:8080/"
        },
        "id": "XTeu1Ff05ZFZ",
        "outputId": "932c9505-abd4-4ee3-fc2d-003674cba0c4"
      },
      "outputs": [
        {
          "name": "stdout",
          "output_type": "stream",
          "text": [
            "Jumlah unique customer: 4338\n",
            "Jumlah unique produk: 3665\n"
          ]
        }
      ],
      "source": [
        "num_customers = df['CustomerID'].nunique()\n",
        "num_products = df['StockCode'].nunique()\n",
        "\n",
        "print(f'Jumlah unique customer: {num_customers}')\n",
        "print(f'Jumlah unique produk: {num_products}')"
      ]
    },
    {
      "cell_type": "markdown",
      "metadata": {
        "id": "7vYplQbuJzpT"
      },
      "source": [
        "## Visualisasi Produk Terlaris\n",
        "\n",
        "Visualisasi digunakan untuk mengetahui produk-produk yang paling sering dibeli oleh pelanggan.  \n",
        "Langkah ini membantu memberikan insight tentang pola pembelian dan preferensi pelanggan dalam data.\n",
        "\n",
        "Berikut adalah 10 produk dengan total kuantitas pembelian tertinggi:"
      ]
    },
    {
      "cell_type": "code",
      "execution_count": 7,
      "metadata": {
        "colab": {
          "base_uri": "https://localhost:8080/",
          "height": 607
        },
        "id": "eg-jqOME6LSB",
        "outputId": "99c673f2-4c6f-4a16-a092-a446a57239da"
      },
      "outputs": [
        {
          "data": {
            "image/png": "[encoded data removed]",
            "text/plain": [
              "<Figure size 1000x600 with 1 Axes>"
            ]
          },
          "metadata": {},
          "output_type": "display_data"
        }
      ],
      "source": [
        "import matplotlib.pyplot as plt\n",
        "\n",
        "top_products = df.groupby('Description')['Quantity'].sum().sort_values(ascending=False).head(10)\n",
        "\n",
        "plt.figure(figsize=(10, 6))\n",
        "top_products.plot(kind='bar', color='skyblue')\n",
        "plt.title('Top 10 Produk Terlaris')\n",
        "plt.xlabel('Nama Produk')\n",
        "plt.ylabel('Total Quantity')\n",
        "plt.xticks(rotation=45, ha='right')\n",
        "plt.tight_layout()\n",
        "plt.show()"
      ]
    },
    {
      "cell_type": "markdown",
      "metadata": {
        "id": "wV3XbpvBJ05z"
      },
      "source": [
        "Terlihat bahwa produk seperti \"PAPER CRAFT, LITTLE BIRDIE\" dan \"STORAGE JAR\" memiliki volume penjualan paling tinggi dibandingkan produk lain."
      ]
    },
    {
      "cell_type": "markdown",
      "metadata": {
        "id": "Y6zgtd8mKY6f"
      },
      "source": [
        "## Negara dengan Jumlah Transaksi Terbanyak\n",
        "\n",
        "Visualisasi berikut menunjukkan 10 negara dengan jumlah transaksi (Invoice unik) terbanyak dalam dataset.  \n",
        "Informasi ini berguna untuk menentukan fokus sistem rekomendasi."
      ]
    },
    {
      "cell_type": "code",
      "execution_count": 8,
      "metadata": {
        "colab": {
          "base_uri": "https://localhost:8080/",
          "height": 607
        },
        "id": "F1Q70jcS6Uo7",
        "outputId": "0bc73f87-7e22-4758-d552-611d06f0a62c"
      },
      "outputs": [
        {
          "data": {
            "image/png": "[encoded data removed]",
            "text/plain": [
              "<Figure size 1000x600 with 1 Axes>"
            ]
          },
          "metadata": {},
          "output_type": "display_data"
        }
      ],
      "source": [
        "top_countries = df.groupby('Country')['InvoiceNo'].nunique().sort_values(ascending=False).head(10)\n",
        "\n",
        "plt.figure(figsize=(10, 6))\n",
        "top_countries.plot(kind='bar', color='coral')\n",
        "plt.title('Top 10 Negara dengan Jumlah Transaksi Terbanyak')\n",
        "plt.xlabel('Negara')\n",
        "plt.ylabel('Jumlah Transaksi (Invoice Unik)')\n",
        "plt.xticks(rotation=45)\n",
        "plt.tight_layout()\n",
        "plt.show()"
      ]
    },
    {
      "cell_type": "markdown",
      "metadata": {
        "id": "FeDyabS8KbHQ"
      },
      "source": [
        "Karena United Kingdom mendominasi jumlah transaksi secara signifikan, maka seluruh proses modeling akan difokuskan pada data dari UK saja untuk hasil yang lebih representatif dan stabil."
      ]
    },
    {
      "cell_type": "markdown",
      "metadata": {
        "id": "Z-IbnZqNKlXv"
      },
      "source": [
        "## Fokus pada Data United Kingdom\n",
        "\n",
        "Berdasarkan analisis sebelumnya, sebagian besar transaksi berasal dari United Kingdom.  \n",
        "Untuk menjaga konsistensi dan mengurangi bias global, maka seluruh proses sistem rekomendasi hanya menggunakan data dari UK."
      ]
    },
    {
      "cell_type": "code",
      "execution_count": 9,
      "metadata": {
        "id": "cmxwHpvF6kCh"
      },
      "outputs": [],
      "source": [
        "df = df[df['Country'] == 'United Kingdom']"
      ]
    },
    {
      "cell_type": "markdown",
      "metadata": {
        "id": "GHINWYIXKnT-"
      },
      "source": [
        "## Content-Based Filtering (CBF)\n",
        "\n",
        "CBF menggunakan informasi deskriptif dari produk untuk mencari kemiripan antar item.  \n",
        "Langkah pertama adalah mentransformasi kolom `Description` menjadi representasi numerik menggunakan TF-IDF (Term Frequency - Inverse Document Frequency).  \n",
        "Setiap produk diubah menjadi vektor berbasis kata unik dalam deskripsinya."
      ]
    },
    {
      "cell_type": "code",
      "execution_count": 10,
      "metadata": {
        "colab": {
          "base_uri": "https://localhost:8080/"
        },
        "id": "zJq1hk7B8_BZ",
        "outputId": "57257eab-3d4c-46fa-e871-1153d24f558d"
      },
      "outputs": [
        {
          "name": "stdout",
          "output_type": "stream",
          "text": [
            "Shape TF-IDF Matrix: (3864, 1967)\n"
          ]
        }
      ],
      "source": [
        "from sklearn.feature_extraction.text import TfidfVectorizer\n",
        "\n",
        "tfidf = TfidfVectorizer(stop_words='english')\n",
        "\n",
        "product_df = df[['StockCode', 'Description']].drop_duplicates()\n",
        "\n",
        "tfidf_matrix = tfidf.fit_transform(product_df['Description'])\n",
        "\n",
        "print(f'Shape TF-IDF Matrix: {tfidf_matrix.shape}')"
      ]
    },
    {
      "cell_type": "markdown",
      "metadata": {
        "id": "86hIKkLzLl8b"
      },
      "source": [
        "### Menghitung Similaritas antar Produk\n",
        "\n",
        "Setelah mendapatkan vektor TF-IDF, kita menghitung kemiripan antar produk menggunakan **cosine similarity**.  \n",
        "Nilai similarity disimpan dalam bentuk matrix 2D dengan ukuran (produk × produk)."
      ]
    },
    {
      "cell_type": "code",
      "execution_count": 11,
      "metadata": {
        "colab": {
          "base_uri": "https://localhost:8080/"
        },
        "id": "htum6SGg9vcU",
        "outputId": "e3152622-1632-479e-d8a8-6a13f14cd589"
      },
      "outputs": [
        {
          "name": "stdout",
          "output_type": "stream",
          "text": [
            "Shape Cosine Similarity Matrix: (3864, 3864)\n"
          ]
        }
      ],
      "source": [
        "from sklearn.metrics.pairwise import cosine_similarity\n",
        "\n",
        "cosine_sim = cosine_similarity(tfidf_matrix, tfidf_matrix)\n",
        "\n",
        "print(f'Shape Cosine Similarity Matrix: {cosine_sim.shape}')"
      ]
    },
    {
      "cell_type": "markdown",
      "metadata": {
        "id": "H6c3IAo5Ln7n"
      },
      "source": [
        "### Fungsi Rekomendasi Produk Berdasarkan Deskripsi\n",
        "\n",
        "Fungsi ini menerima input berupa nama produk (`Description`), lalu mengembalikan daftar produk lain yang paling mirip berdasarkan nilai cosine similarity.  \n",
        "Mirip di sini artinya memiliki konteks kata dan deskripsi yang relevan secara semantik."
      ]
    },
    {
      "cell_type": "code",
      "execution_count": 12,
      "metadata": {
        "id": "zHmfefV-9yEt"
      },
      "outputs": [],
      "source": [
        "indices = pd.Series(product_df.index, index=product_df['Description'])\n",
        "\n",
        "def recommend_product(description, top_n=5):\n",
        "    if description not in indices:\n",
        "        return f'Produk \"{description}\" tidak ditemukan.'\n",
        "\n",
        "    idx = indices[description]\n",
        "\n",
        "    sim_scores = list(enumerate(cosine_sim[idx]))\n",
        "    sim_scores = sorted(sim_scores, key=lambda x: x[1], reverse=True)\n",
        "\n",
        "    top_indices = [i[0] for i in sim_scores[1:top_n+1]]\n",
        "\n",
        "    return product_df.iloc[top_indices][['StockCode', 'Description']]"
      ]
    },
    {
      "cell_type": "markdown",
      "metadata": {
        "id": "8tbgT1JEy6Rv"
      },
      "source": [
        "### Contoh Rekomendasi Produk\n",
        "\n",
        "Berikut adalah hasil rekomendasi dari sistem Content-Based Filtering ketika diberikan input produk:\n",
        "\n",
        "> **\"RED WOOLLY HOTTIE WHITE HEART.\"**\n",
        "\n",
        "Sistem mengembalikan 5 produk dengan deskripsi paling mirip berdasarkan TF-IDF dan cosine similarity:"
      ]
    },
    {
      "cell_type": "code",
      "execution_count": 13,
      "metadata": {
        "colab": {
          "base_uri": "https://localhost:8080/",
          "height": 206
        },
        "id": "g2l26ULI9-ky",
        "outputId": "5abcf960-dc37-4ecc-db99-447f7db15a4b"
      },
      "outputs": [
        {
          "data": {
            "text/html": [
              "<div>\n",
              "<style scoped>\n",
              "    .dataframe tbody tr th:only-of-type {\n",
              "        vertical-align: middle;\n",
              "    }\n",
              "\n",
              "    .dataframe tbody tr th {\n",
              "        vertical-align: top;\n",
              "    }\n",
              "\n",
              "    .dataframe thead th {\n",
              "        text-align: right;\n",
              "    }\n",
              "</style>\n",
              "<table border=\"1\" class=\"dataframe\">\n",
              "  <thead>\n",
              "    <tr style=\"text-align: right;\">\n",
              "      <th></th>\n",
              "      <th>StockCode</th>\n",
              "      <th>Description</th>\n",
              "    </tr>\n",
              "  </thead>\n",
              "  <tbody>\n",
              "    <tr>\n",
              "      <th>73996</th>\n",
              "      <td>90123D</td>\n",
              "      <td>WHITE HEART OF GLASS BRACELET</td>\n",
              "    </tr>\n",
              "    <tr>\n",
              "      <th>220483</th>\n",
              "      <td>23321</td>\n",
              "      <td>SMALL WHITE HEART OF WICKER</td>\n",
              "    </tr>\n",
              "    <tr>\n",
              "      <th>327553</th>\n",
              "      <td>23412</td>\n",
              "      <td>HEART MIRROR ANTIQUE WHITE</td>\n",
              "    </tr>\n",
              "    <tr>\n",
              "      <th>223179</th>\n",
              "      <td>23322</td>\n",
              "      <td>LARGE WHITE HEART OF WICKER</td>\n",
              "    </tr>\n",
              "    <tr>\n",
              "      <th>42364</th>\n",
              "      <td>16206B</td>\n",
              "      <td>RED PURSE WITH PINK HEART</td>\n",
              "    </tr>\n",
              "  </tbody>\n",
              "</table>\n",
              "</div>"
            ],
            "text/plain": [
              "       StockCode                    Description\n",
              "73996     90123D  WHITE HEART OF GLASS BRACELET\n",
              "220483     23321    SMALL WHITE HEART OF WICKER\n",
              "327553     23412     HEART MIRROR ANTIQUE WHITE\n",
              "223179     23322    LARGE WHITE HEART OF WICKER\n",
              "42364     16206B      RED PURSE WITH PINK HEART"
            ]
          },
          "execution_count": 13,
          "metadata": {},
          "output_type": "execute_result"
        }
      ],
      "source": [
        "recommend_product('RED WOOLLY HOTTIE WHITE HEART.')"
      ]
    },
    {
      "cell_type": "markdown",
      "metadata": {
        "id": "DsKHk11nzGVR"
      },
      "source": [
        "- Produk dengan elemen kata \"HEART\", \"WHITE\", \"WICKER\", atau \"BRACELET\" muncul sebagai hasil utama.\n",
        "- Hal ini menunjukkan bahwa sistem dapat mengenali korelasi semantik antar deskripsi produk."
      ]
    },
    {
      "cell_type": "markdown",
      "metadata": {
        "id": "qQM1IYPJL7l-"
      },
      "source": [
        "## Evaluasi Model Content-Based Filtering\n",
        "\n",
        "Evaluasi dilakukan untuk mengetahui seberapa relevan hasil rekomendasi dari CBF terhadap produk-produk yang juga pernah dibeli oleh user.\n",
        "\n",
        "Langkah evaluasi:\n",
        "1. Ambil satu produk dari user sebagai input sistem rekomendasi.\n",
        "2. Gunakan `recommend_product()` untuk mendapatkan produk mirip.\n",
        "3. Produk lain yang pernah dibeli user dibandingkan dengan hasil rekomendasi sebagai ground truth."
      ]
    },
    {
      "cell_type": "code",
      "execution_count": 14,
      "metadata": {
        "id": "gyBzxKY1u-9C"
      },
      "outputs": [],
      "source": [
        "import numpy as np\n",
        "\n",
        "def precision_at_k(recommended, relevant, k):\n",
        "    recommended_at_k = recommended[:k]\n",
        "    relevant_set = set(relevant)\n",
        "    return len([item for item in recommended_at_k if item in relevant_set]) / k\n",
        "\n",
        "def recall_at_k(recommended, relevant, k):\n",
        "    recommended_at_k = recommended[:k]\n",
        "    relevant_set = set(relevant)\n",
        "    return len([item for item in recommended_at_k if item in relevant_set]) / len(relevant_set) if relevant_set else 0\n",
        "\n",
        "def f1_score_at_k(precision, recall):\n",
        "    return 2 * precision * recall / (precision + recall) if (precision + recall) > 0 else 0\n",
        "\n",
        "def average_precision(recommended, relevant, k):\n",
        "    relevant_set = set(relevant)\n",
        "    score = 0.0\n",
        "    hits = 0\n",
        "    for i in range(k):\n",
        "        if recommended[i] in relevant_set:\n",
        "            hits += 1\n",
        "            score += hits / (i + 1)\n",
        "    return score / min(len(relevant_set), k) if relevant_set else 0\n",
        "\n",
        "def ndcg_at_k(recommended, relevant, k):\n",
        "    dcg = 0.0\n",
        "    for i in range(k):\n",
        "        if recommended[i] in relevant:\n",
        "            dcg += 1 / np.log2(i + 2)\n",
        "    idcg = sum([1 / np.log2(i + 2) for i in range(min(len(relevant), k))])\n",
        "    return dcg / idcg if idcg > 0 else 0"
      ]
    },
    {
      "cell_type": "markdown",
      "metadata": {
        "id": "63qAJLLa3TZr"
      },
      "source": [
        "Metrik evaluasi yang digunakan:\n",
        "- **Precision@K**: Persentase item relevan dari total top-K rekomendasi.\n",
        "- **Recall@K**: Seberapa banyak item relevan yang berhasil ditangkap.\n",
        "- **F1@K**: Harmonik dari precision dan recall.\n",
        "- **MAP@K**: Rata-rata presisi kumulatif.\n",
        "- **NDCG@K**: Mengukur relevansi sekaligus mempertimbangkan urutan hasil.\n",
        "\n",
        "Hasil evaluasi akan tergantung pada seberapa mirip deskripsi produk dan keterkaitan pembelian user."
      ]
    },
    {
      "cell_type": "code",
      "execution_count": 15,
      "metadata": {
        "id": "SZqyF83vFzLB"
      },
      "outputs": [],
      "source": [
        "def evaluate_cbf_for_user(user_id, top_k=5):\n",
        "    if user_id not in df['CustomerID'].values:\n",
        "        return f\"User {user_id} tidak ditemukan.\"\n",
        "\n",
        "    user_items = df[df['CustomerID'] == user_id]['Description'].unique()\n",
        "\n",
        "    if len(user_items) < 2:\n",
        "        return f\"User {user_id} tidak cukup interaksi untuk evaluasi.\"\n",
        "\n",
        "    target_desc = user_items[0]\n",
        "    ground_truth = set(user_items[1:])\n",
        "\n",
        "    recs = recommend_product(target_desc, top_k)\n",
        "    recommended = recs['Description'].tolist()\n",
        "\n",
        "    precision = precision_at_k(recommended, ground_truth, top_k)\n",
        "    recall = recall_at_k(recommended, ground_truth, top_k)\n",
        "    f1 = f1_score_at_k(precision, recall)\n",
        "    map_score = average_precision(recommended, ground_truth, top_k)\n",
        "    ndcg = ndcg_at_k(recommended, ground_truth, top_k)\n",
        "\n",
        "    return {\n",
        "        'Precision@K': round(precision, 4),\n",
        "        'Recall@K': round(recall, 4),\n",
        "        'F1@K': round(f1, 4),\n",
        "        'MAP@K': round(map_score, 4),\n",
        "        'NDCG@K': round(ndcg, 4)\n",
        "    }"
      ]
    },
    {
      "cell_type": "markdown",
      "metadata": {
        "id": "J3XKVoZ4L_xz"
      },
      "source": [
        "### Hasil Evaluasi\n",
        "\n",
        "Evaluasi dilakukan untuk user `12748.0` dengan `top_k = 5` menghasilkan:\n",
        "\n",
        "- Precision@5 = 0.4\n",
        "- Recall@5 = 0.0011\n",
        "- F1@5 = 0.0022\n",
        "- MAP@5 = 0.3333\n",
        "- NDCG@5 = 0.5087\n",
        "\n",
        "Hasil ini menunjukkan bahwa sebagian rekomendasi berhasil relevan dengan riwayat pembelian user (precision tinggi), namun recall rendah karena ground truth-nya cukup banyak dan sistem hanya merekomendasikan 5 produk saja."
      ]
    },
    {
      "cell_type": "code",
      "execution_count": 16,
      "metadata": {
        "colab": {
          "base_uri": "https://localhost:8080/"
        },
        "id": "9vEi65BHF3Zu",
        "outputId": "fcd4107d-8835-4d3d-e787-e8879c6b6f80"
      },
      "outputs": [
        {
          "data": {
            "text/plain": [
              "{'Precision@K': 0.4,\n",
              " 'Recall@K': 0.0011,\n",
              " 'F1@K': 0.0022,\n",
              " 'MAP@K': 0.3333,\n",
              " 'NDCG@K': np.float64(0.5087)}"
            ]
          },
          "execution_count": 16,
          "metadata": {},
          "output_type": "execute_result"
        }
      ],
      "source": [
        "evaluate_cbf_for_user(12748.0, top_k=5)"
      ]
    },
    {
      "cell_type": "markdown",
      "metadata": {
        "id": "Sit5fkF-3uV0"
      },
      "source": [
        "# Visualisasi Cosine Similarity antar Produk\n",
        "Untuk melihat bagaimana sistem mengenali kemiripan antar produk berdasarkan deskripsi,  \n",
        "dihitung cosine similarity dari TF-IDF deskripsi produk, dan divisualisasikan dalam bentuk heatmap."
      ]
    },
    {
      "cell_type": "code",
      "execution_count": 17,
      "metadata": {
        "colab": {
          "base_uri": "https://localhost:8080/",
          "height": 807
        },
        "id": "mVG_y4cZvUck",
        "outputId": "63e5ade9-d029-401d-de1b-edde5004ca57"
      },
      "outputs": [
        {
          "data": {
            "image/png": "[encoded data removed]",
            "text/plain": [
              "<Figure size 1200x800 with 2 Axes>"
            ]
          },
          "metadata": {},
          "output_type": "display_data"
        }
      ],
      "source": [
        "import matplotlib.pyplot as plt\n",
        "import seaborn as sns\n",
        "\n",
        "sample_indices = product_df.sample(10, random_state=42).index.to_list()\n",
        "position_indices = list(product_df.index.get_indexer(sample_indices))\n",
        "\n",
        "sample_sim = cosine_sim[position_indices][:, position_indices]\n",
        "\n",
        "labels = product_df.iloc[position_indices]['Description']\n",
        "\n",
        "plt.figure(figsize=(12, 8))\n",
        "sns.heatmap(sample_sim, xticklabels=labels, yticklabels=labels, annot=True, cmap='Blues')\n",
        "plt.title('Cosine Similarity antar Produk (Contoh)')\n",
        "plt.xticks(rotation=45, ha='right')\n",
        "plt.yticks(rotation=0)\n",
        "plt.tight_layout()\n",
        "plt.show()"
      ]
    },
    {
      "cell_type": "markdown",
      "metadata": {
        "id": "yZl22JfQ3wlH"
      },
      "source": [
        "Semakin gelap warna biru, semakin tinggi nilai similarity-nya. Visualisasi ini menunjukkan bahwa sistem Content-Based Filtering berhasil menemukan pola semantik antar produk."
      ]
    },
    {
      "cell_type": "markdown",
      "metadata": {
        "id": "dd42P08A0UKa"
      },
      "source": [
        "## Collaborative Filtering (CF)\n",
        "\n",
        "Pendekatan Collaborative Filtering dilakukan dengan membangun matrix interaksi `CustomerID x StockCode` menggunakan jumlah pembelian (`Quantity`) sebagai nilai interaksi.\n",
        "\n",
        "Matrix ini menjadi dasar untuk mengenali pola kesamaan antar pengguna berdasarkan produk yang mereka beli."
      ]
    },
    {
      "cell_type": "code",
      "execution_count": 18,
      "metadata": {
        "colab": {
          "base_uri": "https://localhost:8080/",
          "height": 267
        },
        "id": "kS_aCOzN-O2J",
        "outputId": "3e39751c-4b4e-4f34-968b-31fb74e60608"
      },
      "outputs": [
        {
          "data": {
            "text/html": [
              "<div>\n",
              "<style scoped>\n",
              "    .dataframe tbody tr th:only-of-type {\n",
              "        vertical-align: middle;\n",
              "    }\n",
              "\n",
              "    .dataframe tbody tr th {\n",
              "        vertical-align: top;\n",
              "    }\n",
              "\n",
              "    .dataframe thead th {\n",
              "        text-align: right;\n",
              "    }\n",
              "</style>\n",
              "<table border=\"1\" class=\"dataframe\">\n",
              "  <thead>\n",
              "    <tr style=\"text-align: right;\">\n",
              "      <th>StockCode</th>\n",
              "      <th>10002</th>\n",
              "      <th>10080</th>\n",
              "      <th>10120</th>\n",
              "      <th>10123C</th>\n",
              "      <th>10124A</th>\n",
              "      <th>10124G</th>\n",
              "      <th>10125</th>\n",
              "      <th>10133</th>\n",
              "      <th>10135</th>\n",
              "      <th>11001</th>\n",
              "      <th>...</th>\n",
              "      <th>90214V</th>\n",
              "      <th>90214W</th>\n",
              "      <th>90214Y</th>\n",
              "      <th>90214Z</th>\n",
              "      <th>BANK CHARGES</th>\n",
              "      <th>C2</th>\n",
              "      <th>DOT</th>\n",
              "      <th>M</th>\n",
              "      <th>PADS</th>\n",
              "      <th>POST</th>\n",
              "    </tr>\n",
              "    <tr>\n",
              "      <th>CustomerID</th>\n",
              "      <th></th>\n",
              "      <th></th>\n",
              "      <th></th>\n",
              "      <th></th>\n",
              "      <th></th>\n",
              "      <th></th>\n",
              "      <th></th>\n",
              "      <th></th>\n",
              "      <th></th>\n",
              "      <th></th>\n",
              "      <th></th>\n",
              "      <th></th>\n",
              "      <th></th>\n",
              "      <th></th>\n",
              "      <th></th>\n",
              "      <th></th>\n",
              "      <th></th>\n",
              "      <th></th>\n",
              "      <th></th>\n",
              "      <th></th>\n",
              "      <th></th>\n",
              "    </tr>\n",
              "  </thead>\n",
              "  <tbody>\n",
              "    <tr>\n",
              "      <th>12346.0</th>\n",
              "      <td>0</td>\n",
              "      <td>0</td>\n",
              "      <td>0</td>\n",
              "      <td>0</td>\n",
              "      <td>0</td>\n",
              "      <td>0</td>\n",
              "      <td>0</td>\n",
              "      <td>0</td>\n",
              "      <td>0</td>\n",
              "      <td>0</td>\n",
              "      <td>...</td>\n",
              "      <td>0</td>\n",
              "      <td>0</td>\n",
              "      <td>0</td>\n",
              "      <td>0</td>\n",
              "      <td>0</td>\n",
              "      <td>0</td>\n",
              "      <td>0</td>\n",
              "      <td>0</td>\n",
              "      <td>0</td>\n",
              "      <td>0</td>\n",
              "    </tr>\n",
              "    <tr>\n",
              "      <th>12747.0</th>\n",
              "      <td>0</td>\n",
              "      <td>0</td>\n",
              "      <td>0</td>\n",
              "      <td>0</td>\n",
              "      <td>0</td>\n",
              "      <td>0</td>\n",
              "      <td>0</td>\n",
              "      <td>0</td>\n",
              "      <td>0</td>\n",
              "      <td>0</td>\n",
              "      <td>...</td>\n",
              "      <td>0</td>\n",
              "      <td>0</td>\n",
              "      <td>0</td>\n",
              "      <td>0</td>\n",
              "      <td>0</td>\n",
              "      <td>0</td>\n",
              "      <td>0</td>\n",
              "      <td>0</td>\n",
              "      <td>0</td>\n",
              "      <td>0</td>\n",
              "    </tr>\n",
              "    <tr>\n",
              "      <th>12748.0</th>\n",
              "      <td>1</td>\n",
              "      <td>0</td>\n",
              "      <td>6</td>\n",
              "      <td>0</td>\n",
              "      <td>0</td>\n",
              "      <td>0</td>\n",
              "      <td>0</td>\n",
              "      <td>28</td>\n",
              "      <td>36</td>\n",
              "      <td>32</td>\n",
              "      <td>...</td>\n",
              "      <td>0</td>\n",
              "      <td>0</td>\n",
              "      <td>0</td>\n",
              "      <td>0</td>\n",
              "      <td>0</td>\n",
              "      <td>0</td>\n",
              "      <td>0</td>\n",
              "      <td>235</td>\n",
              "      <td>0</td>\n",
              "      <td>1</td>\n",
              "    </tr>\n",
              "    <tr>\n",
              "      <th>12749.0</th>\n",
              "      <td>0</td>\n",
              "      <td>0</td>\n",
              "      <td>0</td>\n",
              "      <td>0</td>\n",
              "      <td>0</td>\n",
              "      <td>0</td>\n",
              "      <td>0</td>\n",
              "      <td>0</td>\n",
              "      <td>0</td>\n",
              "      <td>0</td>\n",
              "      <td>...</td>\n",
              "      <td>0</td>\n",
              "      <td>0</td>\n",
              "      <td>0</td>\n",
              "      <td>0</td>\n",
              "      <td>0</td>\n",
              "      <td>1</td>\n",
              "      <td>0</td>\n",
              "      <td>0</td>\n",
              "      <td>0</td>\n",
              "      <td>0</td>\n",
              "    </tr>\n",
              "    <tr>\n",
              "      <th>12820.0</th>\n",
              "      <td>0</td>\n",
              "      <td>0</td>\n",
              "      <td>0</td>\n",
              "      <td>0</td>\n",
              "      <td>0</td>\n",
              "      <td>0</td>\n",
              "      <td>0</td>\n",
              "      <td>0</td>\n",
              "      <td>0</td>\n",
              "      <td>0</td>\n",
              "      <td>...</td>\n",
              "      <td>0</td>\n",
              "      <td>0</td>\n",
              "      <td>0</td>\n",
              "      <td>0</td>\n",
              "      <td>0</td>\n",
              "      <td>0</td>\n",
              "      <td>0</td>\n",
              "      <td>0</td>\n",
              "      <td>0</td>\n",
              "      <td>0</td>\n",
              "    </tr>\n",
              "  </tbody>\n",
              "</table>\n",
              "<p>5 rows × 3645 columns</p>\n",
              "</div>"
            ],
            "text/plain": [
              "StockCode   10002  10080  10120  10123C  10124A  10124G  10125  10133  10135  \\\n",
              "CustomerID                                                                     \n",
              "12346.0         0      0      0       0       0       0      0      0      0   \n",
              "12747.0         0      0      0       0       0       0      0      0      0   \n",
              "12748.0         1      0      6       0       0       0      0     28     36   \n",
              "12749.0         0      0      0       0       0       0      0      0      0   \n",
              "12820.0         0      0      0       0       0       0      0      0      0   \n",
              "\n",
              "StockCode   11001  ...  90214V  90214W  90214Y  90214Z  BANK CHARGES  C2  DOT  \\\n",
              "CustomerID         ...                                                          \n",
              "12346.0         0  ...       0       0       0       0             0   0    0   \n",
              "12747.0         0  ...       0       0       0       0             0   0    0   \n",
              "12748.0        32  ...       0       0       0       0             0   0    0   \n",
              "12749.0         0  ...       0       0       0       0             0   1    0   \n",
              "12820.0         0  ...       0       0       0       0             0   0    0   \n",
              "\n",
              "StockCode     M  PADS  POST  \n",
              "CustomerID                   \n",
              "12346.0       0     0     0  \n",
              "12747.0       0     0     0  \n",
              "12748.0     235     0     1  \n",
              "12749.0       0     0     0  \n",
              "12820.0       0     0     0  \n",
              "\n",
              "[5 rows x 3645 columns]"
            ]
          },
          "execution_count": 18,
          "metadata": {},
          "output_type": "execute_result"
        }
      ],
      "source": [
        "user_product_matrix = df.pivot_table(\n",
        "    index='CustomerID',\n",
        "    columns='StockCode',\n",
        "    values='Quantity',\n",
        "    aggfunc='sum',\n",
        "    fill_value=0\n",
        ")\n",
        "\n",
        "user_product_matrix.head()"
      ]
    },
    {
      "cell_type": "markdown",
      "metadata": {
        "id": "F4VVDgHQ0Wz5"
      },
      "source": [
        "### Model CF menggunakan K-Nearest Neighbors (KNN)\n",
        "\n",
        "Model KNN digunakan untuk mencari user yang memiliki pola pembelian serupa (tetangga terdekat) menggunakan cosine similarity sebagai metrik kemiripan antar user.\n",
        "\n",
        "Algoritma `brute` dipilih karena dataset relatif kecil sehingga performanya masih efisien."
      ]
    },
    {
      "cell_type": "code",
      "execution_count": 19,
      "metadata": {
        "colab": {
          "base_uri": "https://localhost:8080/",
          "height": 80
        },
        "id": "rZX9qyE1-vN3",
        "outputId": "94333409-3f3e-4639-b35d-176ec8e5657e"
      },
      "outputs": [
        {
          "data": {
            "text/html": [
              "<style>#sk-container-id-1 {\n",
              "  /* Definition of color scheme common for light and dark mode */\n",
              "  --sklearn-color-text: #000;\n",
              "  --sklearn-color-text-muted: #666;\n",
              "  --sklearn-color-line: gray;\n",
              "  /* Definition of color scheme for unfitted estimators */\n",
              "  --sklearn-color-unfitted-level-0: #fff5e6;\n",
              "  --sklearn-color-unfitted-level-1: #f6e4d2;\n",
              "  --sklearn-color-unfitted-level-2: #ffe0b3;\n",
              "  --sklearn-color-unfitted-level-3: chocolate;\n",
              "  /* Definition of color scheme for fitted estimators */\n",
              "  --sklearn-color-fitted-level-0: #f0f8ff;\n",
              "  --sklearn-color-fitted-level-1: #d4ebff;\n",
              "  --sklearn-color-fitted-level-2: #b3dbfd;\n",
              "  --sklearn-color-fitted-level-3: cornflowerblue;\n",
              "\n",
              "  /* Specific color for light theme */\n",
              "  --sklearn-color-text-on-default-background: var(--sg-text-color, var(--theme-code-foreground, var(--jp-content-font-color1, black)));\n",
              "  --sklearn-color-background: var(--sg-background-color, var(--theme-background, var(--jp-layout-color0, white)));\n",
              "  --sklearn-color-border-box: var(--sg-text-color, var(--theme-code-foreground, var(--jp-content-font-color1, black)));\n",
              "  --sklearn-color-icon: #696969;\n",
              "\n",
              "  @media (prefers-color-scheme: dark) {\n",
              "    /* Redefinition of color scheme for dark theme */\n",
              "    --sklearn-color-text-on-default-background: var(--sg-text-color, var(--theme-code-foreground, var(--jp-content-font-color1, white)));\n",
              "    --sklearn-color-background: var(--sg-background-color, var(--theme-background, var(--jp-layout-color0, #111)));\n",
              "    --sklearn-color-border-box: var(--sg-text-color, var(--theme-code-foreground, var(--jp-content-font-color1, white)));\n",
              "    --sklearn-color-icon: #878787;\n",
              "  }\n",
              "}\n",
              "\n",
              "#sk-container-id-1 {\n",
              "  color: var(--sklearn-color-text);\n",
              "}\n",
              "\n",
              "#sk-container-id-1 pre {\n",
              "  padding: 0;\n",
              "}\n",
              "\n",
              "#sk-container-id-1 input.sk-hidden--visually {\n",
              "  border: 0;\n",
              "  clip: rect(1px 1px 1px 1px);\n",
              "  clip: rect(1px, 1px, 1px, 1px);\n",
              "  height: 1px;\n",
              "  margin: -1px;\n",
              "  overflow: hidden;\n",
              "  padding: 0;\n",
              "  position: absolute;\n",
              "  width: 1px;\n",
              "}\n",
              "\n",
              "#sk-container-id-1 div.sk-dashed-wrapped {\n",
              "  border: 1px dashed var(--sklearn-color-line);\n",
              "  margin: 0 0.4em 0.5em 0.4em;\n",
              "  box-sizing: border-box;\n",
              "  padding-bottom: 0.4em;\n",
              "  background-color: var(--sklearn-color-background);\n",
              "}\n",
              "\n",
              "#sk-container-id-1 div.sk-container {\n",
              "  /* jupyter's `normalize.less` sets `[hidden] { display: none; }`\n",
              "     but bootstrap.min.css set `[hidden] { display: none !important; }`\n",
              "     so we also need the `!important` here to be able to override the\n",
              "     default hidden behavior on the sphinx rendered scikit-learn.org.\n",
              "     See: https://github.com/scikit-learn/scikit-learn/issues/21755 */\n",
              "  display: inline-block !important;\n",
              "  position: relative;\n",
              "}\n",
              "\n",
              "#sk-container-id-1 div.sk-text-repr-fallback {\n",
              "  display: none;\n",
              "}\n",
              "\n",
              "div.sk-parallel-item,\n",
              "div.sk-serial,\n",
              "div.sk-item {\n",
              "  /* draw centered vertical line to link estimators */\n",
              "  background-image: linear-gradient(var(--sklearn-color-text-on-default-background), var(--sklearn-color-text-on-default-background));\n",
              "  background-size: 2px 100%;\n",
              "  background-repeat: no-repeat;\n",
              "  background-position: center center;\n",
              "}\n",
              "\n",
              "/* Parallel-specific style estimator block */\n",
              "\n",
              "#sk-container-id-1 div.sk-parallel-item::after {\n",
              "  content: \"\";\n",
              "  width: 100%;\n",
              "  border-bottom: 2px solid var(--sklearn-color-text-on-default-background);\n",
              "  flex-grow: 1;\n",
              "}\n",
              "\n",
              "#sk-container-id-1 div.sk-parallel {\n",
              "  display: flex;\n",
              "  align-items: stretch;\n",
              "  justify-content: center;\n",
              "  background-color: var(--sklearn-color-background);\n",
              "  position: relative;\n",
              "}\n",
              "\n",
              "#sk-container-id-1 div.sk-parallel-item {\n",
              "  display: flex;\n",
              "  flex-direction: column;\n",
              "}\n",
              "\n",
              "#sk-container-id-1 div.sk-parallel-item:first-child::after {\n",
              "  align-self: flex-end;\n",
              "  width: 50%;\n",
              "}\n",
              "\n",
              "#sk-container-id-1 div.sk-parallel-item:last-child::after {\n",
              "  align-self: flex-start;\n",
              "  width: 50%;\n",
              "}\n",
              "\n",
              "#sk-container-id-1 div.sk-parallel-item:only-child::after {\n",
              "  width: 0;\n",
              "}\n",
              "\n",
              "/* Serial-specific style estimator block */\n",
              "\n",
              "#sk-container-id-1 div.sk-serial {\n",
              "  display: flex;\n",
              "  flex-direction: column;\n",
              "  align-items: center;\n",
              "  background-color: var(--sklearn-color-background);\n",
              "  padding-right: 1em;\n",
              "  padding-left: 1em;\n",
              "}\n",
              "\n",
              "\n",
              "/* Toggleable style: style used for estimator/Pipeline/ColumnTransformer box that is\n",
              "clickable and can be expanded/collapsed.\n",
              "- Pipeline and ColumnTransformer use this feature and define the default style\n",
              "- Estimators will overwrite some part of the style using the `sk-estimator` class\n",
              "*/\n",
              "\n",
              "/* Pipeline and ColumnTransformer style (default) */\n",
              "\n",
              "#sk-container-id-1 div.sk-toggleable {\n",
              "  /* Default theme specific background. It is overwritten whether we have a\n",
              "  specific estimator or a Pipeline/ColumnTransformer */\n",
              "  background-color: var(--sklearn-color-background);\n",
              "}\n",
              "\n",
              "/* Toggleable label */\n",
              "#sk-container-id-1 label.sk-toggleable__label {\n",
              "  cursor: pointer;\n",
              "  display: flex;\n",
              "  width: 100%;\n",
              "  margin-bottom: 0;\n",
              "  padding: 0.5em;\n",
              "  box-sizing: border-box;\n",
              "  text-align: center;\n",
              "  align-items: start;\n",
              "  justify-content: space-between;\n",
              "  gap: 0.5em;\n",
              "}\n",
              "\n",
              "#sk-container-id-1 label.sk-toggleable__label .caption {\n",
              "  font-size: 0.6rem;\n",
              "  font-weight: lighter;\n",
              "  color: var(--sklearn-color-text-muted);\n",
              "}\n",
              "\n",
              "#sk-container-id-1 label.sk-toggleable__label-arrow:before {\n",
              "  /* Arrow on the left of the label */\n",
              "  content: \"▸\";\n",
              "  float: left;\n",
              "  margin-right: 0.25em;\n",
              "  color: var(--sklearn-color-icon);\n",
              "}\n",
              "\n",
              "#sk-container-id-1 label.sk-toggleable__label-arrow:hover:before {\n",
              "  color: var(--sklearn-color-text);\n",
              "}\n",
              "\n",
              "/* Toggleable content - dropdown */\n",
              "\n",
              "#sk-container-id-1 div.sk-toggleable__content {\n",
              "  max-height: 0;\n",
              "  max-width: 0;\n",
              "  overflow: hidden;\n",
              "  text-align: left;\n",
              "  /* unfitted */\n",
              "  background-color: var(--sklearn-color-unfitted-level-0);\n",
              "}\n",
              "\n",
              "#sk-container-id-1 div.sk-toggleable__content.fitted {\n",
              "  /* fitted */\n",
              "  background-color: var(--sklearn-color-fitted-level-0);\n",
              "}\n",
              "\n",
              "#sk-container-id-1 div.sk-toggleable__content pre {\n",
              "  margin: 0.2em;\n",
              "  border-radius: 0.25em;\n",
              "  color: var(--sklearn-color-text);\n",
              "  /* unfitted */\n",
              "  background-color: var(--sklearn-color-unfitted-level-0);\n",
              "}\n",
              "\n",
              "#sk-container-id-1 div.sk-toggleable__content.fitted pre {\n",
              "  /* unfitted */\n",
              "  background-color: var(--sklearn-color-fitted-level-0);\n",
              "}\n",
              "\n",
              "#sk-container-id-1 input.sk-toggleable__control:checked~div.sk-toggleable__content {\n",
              "  /* Expand drop-down */\n",
              "  max-height: 200px;\n",
              "  max-width: 100%;\n",
              "  overflow: auto;\n",
              "}\n",
              "\n",
              "#sk-container-id-1 input.sk-toggleable__control:checked~label.sk-toggleable__label-arrow:before {\n",
              "  content: \"▾\";\n",
              "}\n",
              "\n",
              "/* Pipeline/ColumnTransformer-specific style */\n",
              "\n",
              "#sk-container-id-1 div.sk-label input.sk-toggleable__control:checked~label.sk-toggleable__label {\n",
              "  color: var(--sklearn-color-text);\n",
              "  background-color: var(--sklearn-color-unfitted-level-2);\n",
              "}\n",
              "\n",
              "#sk-container-id-1 div.sk-label.fitted input.sk-toggleable__control:checked~label.sk-toggleable__label {\n",
              "  background-color: var(--sklearn-color-fitted-level-2);\n",
              "}\n",
              "\n",
              "/* Estimator-specific style */\n",
              "\n",
              "/* Colorize estimator box */\n",
              "#sk-container-id-1 div.sk-estimator input.sk-toggleable__control:checked~label.sk-toggleable__label {\n",
              "  /* unfitted */\n",
              "  background-color: var(--sklearn-color-unfitted-level-2);\n",
              "}\n",
              "\n",
              "#sk-container-id-1 div.sk-estimator.fitted input.sk-toggleable__control:checked~label.sk-toggleable__label {\n",
              "  /* fitted */\n",
              "  background-color: var(--sklearn-color-fitted-level-2);\n",
              "}\n",
              "\n",
              "#sk-container-id-1 div.sk-label label.sk-toggleable__label,\n",
              "#sk-container-id-1 div.sk-label label {\n",
              "  /* The background is the default theme color */\n",
              "  color: var(--sklearn-color-text-on-default-background);\n",
              "}\n",
              "\n",
              "/* On hover, darken the color of the background */\n",
              "#sk-container-id-1 div.sk-label:hover label.sk-toggleable__label {\n",
              "  color: var(--sklearn-color-text);\n",
              "  background-color: var(--sklearn-color-unfitted-level-2);\n",
              "}\n",
              "\n",
              "/* Label box, darken color on hover, fitted */\n",
              "#sk-container-id-1 div.sk-label.fitted:hover label.sk-toggleable__label.fitted {\n",
              "  color: var(--sklearn-color-text);\n",
              "  background-color: var(--sklearn-color-fitted-level-2);\n",
              "}\n",
              "\n",
              "/* Estimator label */\n",
              "\n",
              "#sk-container-id-1 div.sk-label label {\n",
              "  font-family: monospace;\n",
              "  font-weight: bold;\n",
              "  display: inline-block;\n",
              "  line-height: 1.2em;\n",
              "}\n",
              "\n",
              "#sk-container-id-1 div.sk-label-container {\n",
              "  text-align: center;\n",
              "}\n",
              "\n",
              "/* Estimator-specific */\n",
              "#sk-container-id-1 div.sk-estimator {\n",
              "  font-family: monospace;\n",
              "  border: 1px dotted var(--sklearn-color-border-box);\n",
              "  border-radius: 0.25em;\n",
              "  box-sizing: border-box;\n",
              "  margin-bottom: 0.5em;\n",
              "  /* unfitted */\n",
              "  background-color: var(--sklearn-color-unfitted-level-0);\n",
              "}\n",
              "\n",
              "#sk-container-id-1 div.sk-estimator.fitted {\n",
              "  /* fitted */\n",
              "  background-color: var(--sklearn-color-fitted-level-0);\n",
              "}\n",
              "\n",
              "/* on hover */\n",
              "#sk-container-id-1 div.sk-estimator:hover {\n",
              "  /* unfitted */\n",
              "  background-color: var(--sklearn-color-unfitted-level-2);\n",
              "}\n",
              "\n",
              "#sk-container-id-1 div.sk-estimator.fitted:hover {\n",
              "  /* fitted */\n",
              "  background-color: var(--sklearn-color-fitted-level-2);\n",
              "}\n",
              "\n",
              "/* Specification for estimator info (e.g. \"i\" and \"?\") */\n",
              "\n",
              "/* Common style for \"i\" and \"?\" */\n",
              "\n",
              ".sk-estimator-doc-link,\n",
              "a:link.sk-estimator-doc-link,\n",
              "a:visited.sk-estimator-doc-link {\n",
              "  float: right;\n",
              "  font-size: smaller;\n",
              "  line-height: 1em;\n",
              "  font-family: monospace;\n",
              "  background-color: var(--sklearn-color-background);\n",
              "  border-radius: 1em;\n",
              "  height: 1em;\n",
              "  width: 1em;\n",
              "  text-decoration: none !important;\n",
              "  margin-left: 0.5em;\n",
              "  text-align: center;\n",
              "  /* unfitted */\n",
              "  border: var(--sklearn-color-unfitted-level-1) 1pt solid;\n",
              "  color: var(--sklearn-color-unfitted-level-1);\n",
              "}\n",
              "\n",
              ".sk-estimator-doc-link.fitted,\n",
              "a:link.sk-estimator-doc-link.fitted,\n",
              "a:visited.sk-estimator-doc-link.fitted {\n",
              "  /* fitted */\n",
              "  border: var(--sklearn-color-fitted-level-1) 1pt solid;\n",
              "  color: var(--sklearn-color-fitted-level-1);\n",
              "}\n",
              "\n",
              "/* On hover */\n",
              "div.sk-estimator:hover .sk-estimator-doc-link:hover,\n",
              ".sk-estimator-doc-link:hover,\n",
              "div.sk-label-container:hover .sk-estimator-doc-link:hover,\n",
              ".sk-estimator-doc-link:hover {\n",
              "  /* unfitted */\n",
              "  background-color: var(--sklearn-color-unfitted-level-3);\n",
              "  color: var(--sklearn-color-background);\n",
              "  text-decoration: none;\n",
              "}\n",
              "\n",
              "div.sk-estimator.fitted:hover .sk-estimator-doc-link.fitted:hover,\n",
              ".sk-estimator-doc-link.fitted:hover,\n",
              "div.sk-label-container:hover .sk-estimator-doc-link.fitted:hover,\n",
              ".sk-estimator-doc-link.fitted:hover {\n",
              "  /* fitted */\n",
              "  background-color: var(--sklearn-color-fitted-level-3);\n",
              "  color: var(--sklearn-color-background);\n",
              "  text-decoration: none;\n",
              "}\n",
              "\n",
              "/* Span, style for the box shown on hovering the info icon */\n",
              ".sk-estimator-doc-link span {\n",
              "  display: none;\n",
              "  z-index: 9999;\n",
              "  position: relative;\n",
              "  font-weight: normal;\n",
              "  right: .2ex;\n",
              "  padding: .5ex;\n",
              "  margin: .5ex;\n",
              "  width: min-content;\n",
              "  min-width: 20ex;\n",
              "  max-width: 50ex;\n",
              "  color: var(--sklearn-color-text);\n",
              "  box-shadow: 2pt 2pt 4pt #999;\n",
              "  /* unfitted */\n",
              "  background: var(--sklearn-color-unfitted-level-0);\n",
              "  border: .5pt solid var(--sklearn-color-unfitted-level-3);\n",
              "}\n",
              "\n",
              ".sk-estimator-doc-link.fitted span {\n",
              "  /* fitted */\n",
              "  background: var(--sklearn-color-fitted-level-0);\n",
              "  border: var(--sklearn-color-fitted-level-3);\n",
              "}\n",
              "\n",
              ".sk-estimator-doc-link:hover span {\n",
              "  display: block;\n",
              "}\n",
              "\n",
              "/* \"?\"-specific style due to the `<a>` HTML tag */\n",
              "\n",
              "#sk-container-id-1 a.estimator_doc_link {\n",
              "  float: right;\n",
              "  font-size: 1rem;\n",
              "  line-height: 1em;\n",
              "  font-family: monospace;\n",
              "  background-color: var(--sklearn-color-background);\n",
              "  border-radius: 1rem;\n",
              "  height: 1rem;\n",
              "  width: 1rem;\n",
              "  text-decoration: none;\n",
              "  /* unfitted */\n",
              "  color: var(--sklearn-color-unfitted-level-1);\n",
              "  border: var(--sklearn-color-unfitted-level-1) 1pt solid;\n",
              "}\n",
              "\n",
              "#sk-container-id-1 a.estimator_doc_link.fitted {\n",
              "  /* fitted */\n",
              "  border: var(--sklearn-color-fitted-level-1) 1pt solid;\n",
              "  color: var(--sklearn-color-fitted-level-1);\n",
              "}\n",
              "\n",
              "/* On hover */\n",
              "#sk-container-id-1 a.estimator_doc_link:hover {\n",
              "  /* unfitted */\n",
              "  background-color: var(--sklearn-color-unfitted-level-3);\n",
              "  color: var(--sklearn-color-background);\n",
              "  text-decoration: none;\n",
              "}\n",
              "\n",
              "#sk-container-id-1 a.estimator_doc_link.fitted:hover {\n",
              "  /* fitted */\n",
              "  background-color: var(--sklearn-color-fitted-level-3);\n",
              "}\n",
              "</style><div id=\"sk-container-id-1\" class=\"sk-top-container\"><div class=\"sk-text-repr-fallback\"><pre>NearestNeighbors(algorithm=&#x27;brute&#x27;, metric=&#x27;cosine&#x27;)</pre><b>In a Jupyter environment, please rerun this cell to show the HTML representation or trust the notebook. <br />On GitHub, the HTML representation is unable to render, please try loading this page with nbviewer.org.</b></div><div class=\"sk-container\" hidden><div class=\"sk-item\"><div class=\"sk-estimator fitted sk-toggleable\"><input class=\"sk-toggleable__control sk-hidden--visually\" id=\"sk-estimator-id-1\" type=\"checkbox\" checked><label for=\"sk-estimator-id-1\" class=\"sk-toggleable__label fitted sk-toggleable__label-arrow\"><div><div>NearestNeighbors</div></div><div><a class=\"sk-estimator-doc-link fitted\" rel=\"noreferrer\" target=\"_blank\" href=\"https://scikit-learn.org/1.6/modules/generated/sklearn.neighbors.NearestNeighbors.html\">?<span>Documentation for NearestNeighbors</span></a><span class=\"sk-estimator-doc-link fitted\">i<span>Fitted</span></span></div></label><div class=\"sk-toggleable__content fitted\"><pre>NearestNeighbors(algorithm=&#x27;brute&#x27;, metric=&#x27;cosine&#x27;)</pre></div> </div></div></div></div>"
            ],
            "text/plain": [
              "NearestNeighbors(algorithm='brute', metric='cosine')"
            ]
          },
          "execution_count": 19,
          "metadata": {},
          "output_type": "execute_result"
        }
      ],
      "source": [
        "from sklearn.neighbors import NearestNeighbors\n",
        "import numpy as np\n",
        "\n",
        "user_item_matrix = user_product_matrix.values\n",
        "\n",
        "model_knn = NearestNeighbors(metric='cosine', algorithm='brute')\n",
        "model_knn.fit(user_item_matrix)"
      ]
    },
    {
      "cell_type": "markdown",
      "metadata": {
        "id": "vG4ZssUu0ZbD"
      },
      "source": [
        "### Fungsi Rekomendasi Berdasarkan CF\n",
        "\n",
        "Terdapat dua fungsi utama:\n",
        "1. `recommend_by_user()`  \n",
        "   Mengembalikan daftar tetangga (user yang mirip) berdasarkan interaksi."
      ]
    },
    {
      "cell_type": "code",
      "execution_count": 20,
      "metadata": {
        "id": "ulebQ7yz-yNn"
      },
      "outputs": [],
      "source": [
        "def recommend_by_user(user_id, n_neighbors=5):\n",
        "    if user_id not in user_product_matrix.index:\n",
        "        return f'CustomerID {user_id} tidak ditemukan.'\n",
        "\n",
        "    user_index = list(user_product_matrix.index).index(user_id)\n",
        "    distances, indices = model_knn.kneighbors(\n",
        "        [user_item_matrix[user_index]],\n",
        "        n_neighbors=n_neighbors + 1\n",
        "    )\n",
        "\n",
        "    neighbor_ids = [user_product_matrix.index[i] for i in indices.flatten() if user_product_matrix.index[i] != user_id]\n",
        "    return neighbor_ids"
      ]
    },
    {
      "cell_type": "markdown",
      "metadata": {
        "id": "vMtlegip0dGu"
      },
      "source": [
        "2. `recommend_products_for_user()`  \n",
        "   Mengembalikan daftar produk yang dibeli oleh user tetangga tapi belum dibeli oleh user target.  \n",
        "   Hasil produk dirangking berdasarkan total pembelian user tetangga."
      ]
    },
    {
      "cell_type": "code",
      "execution_count": 21,
      "metadata": {
        "id": "MRcPO2Du-z-i"
      },
      "outputs": [],
      "source": [
        "def recommend_products_for_user(user_id, n_neighbors=5, top_n=5):\n",
        "    if user_id not in user_product_matrix.index:\n",
        "        return f'CustomerID {user_id} tidak ditemukan.'\n",
        "\n",
        "    user_index = list(user_product_matrix.index).index(user_id)\n",
        "    distances, indices = model_knn.kneighbors(\n",
        "        [user_item_matrix[user_index]],\n",
        "        n_neighbors=n_neighbors + 1\n",
        "    )\n",
        "\n",
        "    neighbor_indices = indices.flatten()[1:]\n",
        "    neighbor_ids = [user_product_matrix.index[i] for i in neighbor_indices]\n",
        "\n",
        "    neighbor_data = user_product_matrix.loc[neighbor_ids]\n",
        "    summed_products = neighbor_data.sum().sort_values(ascending=False)\n",
        "\n",
        "    user_products = user_product_matrix.loc[user_id]\n",
        "    already_bought = user_products[user_products > 0].index\n",
        "    recommended = summed_products[~summed_products.index.isin(already_bought)]\n",
        "\n",
        "    result = pd.DataFrame(recommended.head(top_n)).reset_index()\n",
        "    result.columns = ['StockCode', 'Score']\n",
        "    result = result.merge(product_df, on='StockCode', how='left').drop_duplicates('StockCode')\n",
        "\n",
        "    return result[['StockCode', 'Description', 'Score']]"
      ]
    },
    {
      "cell_type": "markdown",
      "metadata": {
        "id": "bq62TF2x1kQo"
      },
      "source": [
        "### Contoh Rekomendasi Produk oleh Collaborative Filtering\n",
        "\n",
        "Berikut adalah contoh hasil rekomendasi untuk user dengan ID `12748.0`.\n",
        "\n",
        "Sistem CF mengidentifikasi produk-produk yang belum dibeli user, namun sering dibeli oleh user lain yang memiliki pola interaksi serupa.\n",
        "\n",
        "Hasil rekomendasi ditampilkan berdasarkan skor kemunculan produk di tetangga terdekat."
      ]
    },
    {
      "cell_type": "code",
      "execution_count": 22,
      "metadata": {
        "colab": {
          "base_uri": "https://localhost:8080/",
          "height": 206
        },
        "id": "3i8kBIB6_Hz3",
        "outputId": "73af062c-73f4-464e-9d65-543731dc62d4"
      },
      "outputs": [
        {
          "data": {
            "text/html": [
              "<div>\n",
              "<style scoped>\n",
              "    .dataframe tbody tr th:only-of-type {\n",
              "        vertical-align: middle;\n",
              "    }\n",
              "\n",
              "    .dataframe tbody tr th {\n",
              "        vertical-align: top;\n",
              "    }\n",
              "\n",
              "    .dataframe thead th {\n",
              "        text-align: right;\n",
              "    }\n",
              "</style>\n",
              "<table border=\"1\" class=\"dataframe\">\n",
              "  <thead>\n",
              "    <tr style=\"text-align: right;\">\n",
              "      <th></th>\n",
              "      <th>StockCode</th>\n",
              "      <th>Description</th>\n",
              "      <th>Score</th>\n",
              "    </tr>\n",
              "  </thead>\n",
              "  <tbody>\n",
              "    <tr>\n",
              "      <th>0</th>\n",
              "      <td>84947</td>\n",
              "      <td>ANTIQUE SILVER TEA GLASS ENGRAVED</td>\n",
              "      <td>72</td>\n",
              "    </tr>\n",
              "    <tr>\n",
              "      <th>1</th>\n",
              "      <td>22422</td>\n",
              "      <td>TOOTHPASTE TUBE PEN</td>\n",
              "      <td>58</td>\n",
              "    </tr>\n",
              "    <tr>\n",
              "      <th>2</th>\n",
              "      <td>16048</td>\n",
              "      <td>TEATIME ROUND PENCIL SHARPENER</td>\n",
              "      <td>48</td>\n",
              "    </tr>\n",
              "    <tr>\n",
              "      <th>3</th>\n",
              "      <td>22043</td>\n",
              "      <td>CHRISTMAS CARD SCREEN PRINT</td>\n",
              "      <td>48</td>\n",
              "    </tr>\n",
              "    <tr>\n",
              "      <th>4</th>\n",
              "      <td>82483</td>\n",
              "      <td>WOOD 2 DRAWER CABINET WHITE FINISH</td>\n",
              "      <td>37</td>\n",
              "    </tr>\n",
              "  </tbody>\n",
              "</table>\n",
              "</div>"
            ],
            "text/plain": [
              "  StockCode                         Description  Score\n",
              "0     84947   ANTIQUE SILVER TEA GLASS ENGRAVED     72\n",
              "1     22422                 TOOTHPASTE TUBE PEN     58\n",
              "2     16048     TEATIME ROUND PENCIL SHARPENER      48\n",
              "3     22043        CHRISTMAS CARD SCREEN PRINT      48\n",
              "4     82483  WOOD 2 DRAWER CABINET WHITE FINISH     37"
            ]
          },
          "execution_count": 22,
          "metadata": {},
          "output_type": "execute_result"
        }
      ],
      "source": [
        "recommend_products_for_user(12748.0)"
      ]
    },
    {
      "cell_type": "markdown",
      "metadata": {
        "id": "_S_ajWr21mMg"
      },
      "source": [
        "## Metrik Evaluasi\n",
        "\n",
        "Berikut adalah implementasi metrik evaluasi yang digunakan untuk menilai performa model rekomendasi:\n",
        "\n",
        "- **Precision@K**: Mengukur proporsi item relevan dalam top-K rekomendasi.\n",
        "- **Recall@K**: Mengukur seberapa banyak item relevan yang berhasil ditangkap dari semua item relevan.\n",
        "- **F1-Score@K**: Rata-rata harmonik antara precision dan recall.\n",
        "- **MAP@K (Mean Average Precision)**: Rata-rata presisi posisi relevan di seluruh top-K.\n",
        "- **NDCG@K (Normalized Discounted Cumulative Gain)**: Mengukur relevansi dan memperhitungkan posisi item dalam daftar rekomendasi."
      ]
    },
    {
      "cell_type": "code",
      "execution_count": 23,
      "metadata": {
        "id": "zLah_7GzAC0k"
      },
      "outputs": [],
      "source": [
        "def precision_at_k(recommended, relevant, k):\n",
        "    recommended_at_k = recommended[:k]\n",
        "    relevant_set = set(relevant)\n",
        "    return len([item for item in recommended_at_k if item in relevant_set]) / k\n",
        "\n",
        "def recall_at_k(recommended, relevant, k):\n",
        "    recommended_at_k = recommended[:k]\n",
        "    relevant_set = set(relevant)\n",
        "    return len([item for item in recommended_at_k if item in relevant_set]) / len(relevant_set) if relevant_set else 0\n",
        "\n",
        "def f1_score_at_k(precision, recall):\n",
        "    return 2 * precision * recall / (precision + recall) if (precision + recall) > 0 else 0\n",
        "\n",
        "def average_precision(recommended, relevant, k):\n",
        "    relevant_set = set(relevant)\n",
        "    score = 0.0\n",
        "    hits = 0\n",
        "    for i in range(k):\n",
        "        if i < len(recommended) and recommended[i] in relevant_set:\n",
        "            hits += 1\n",
        "            score += hits / (i + 1)\n",
        "    return score / min(len(relevant_set), k) if relevant_set else 0\n",
        "\n",
        "def ndcg_at_k(recommended, relevant, k):\n",
        "    dcg = 0.0\n",
        "    for i in range(k):\n",
        "        if i < len(recommended) and recommended[i] in relevant:\n",
        "            dcg += 1 / np.log2(i + 2)\n",
        "    idcg = sum([1 / np.log2(i + 2) for i in range(min(len(relevant), k))])\n",
        "    return dcg / idcg if idcg > 0 else 0"
      ]
    },
    {
      "cell_type": "markdown",
      "metadata": {
        "id": "lFUj9kws1Gkm"
      },
      "source": [
        "## Evaluasi Model Collaborative Filtering\n",
        "\n",
        "Evaluasi dilakukan dengan cara:\n",
        "1. Ambil seluruh riwayat pembelian user.\n",
        "2. Simulasikan sebagian produk \"tidak diketahui\".\n",
        "3. Gunakan sisanya sebagai input untuk merekomendasikan produk baru.\n",
        "4. Bandingkan hasil rekomendasi dengan produk relevan (ground truth).\n",
        "\n",
        "Evaluasi dilakukan menggunakan 5 metrik utama:\n",
        "- **Precision@K**\n",
        "- **Recall@K**\n",
        "- **F1@K**\n",
        "- **MAP@K**\n",
        "- **NDCG@K**\n",
        "\n",
        "Semua metrik mengukur seberapa relevan dan akurat hasil sistem rekomendasi dalam top-K produk."
      ]
    },
    {
      "cell_type": "code",
      "execution_count": 24,
      "metadata": {
        "id": "tagnjbRgCmt-"
      },
      "outputs": [],
      "source": [
        "def evaluate_user(user_id, top_k=5, return_debug=False):\n",
        "    if user_id not in user_product_matrix.index:\n",
        "        return f\"User {user_id} tidak ditemukan.\"\n",
        "\n",
        "    user_data = user_product_matrix.loc[user_id]\n",
        "    bought = list(user_data[user_data > 0].index)\n",
        "\n",
        "    if len(bought) < 2:\n",
        "        return f\"User {user_id} tidak punya cukup produk untuk evaluasi.\"\n",
        "\n",
        "    split = len(bought) // 2\n",
        "    known_items = bought[:split]\n",
        "    ground_truth = bought[split:]\n",
        "\n",
        "    simulated_user_vector = user_data.copy()\n",
        "    simulated_user_vector[ground_truth] = 0\n",
        "\n",
        "    simulated_matrix = user_product_matrix.copy()\n",
        "    simulated_matrix.loc[user_id] = simulated_user_vector\n",
        "    model_knn.fit(simulated_matrix.values)\n",
        "\n",
        "    rec_df = recommend_products_for_user(user_id, top_n=top_k)\n",
        "    recommended = rec_df['StockCode'].astype(str).tolist() if isinstance(rec_df, pd.DataFrame) else []\n",
        "\n",
        "    precision = precision_at_k(recommended, ground_truth, top_k)\n",
        "    recall = recall_at_k(recommended, ground_truth, top_k)\n",
        "    f1 = f1_score_at_k(precision, recall)\n",
        "    map_score = average_precision(recommended, ground_truth, top_k)\n",
        "    ndcg = ndcg_at_k(recommended, ground_truth, top_k)\n",
        "\n",
        "    result = {\n",
        "        'Precision@K': round(precision, 4),\n",
        "        'Recall@K': round(recall, 4),\n",
        "        'F1@K': round(f1, 4),\n",
        "        'MAP@K': round(map_score, 4),\n",
        "        'NDCG@K': round(ndcg, 4)\n",
        "    }\n",
        "\n",
        "    if return_debug:\n",
        "        return result, ground_truth, recommended\n",
        "    else:\n",
        "        return result"
      ]
    },
    {
      "cell_type": "markdown",
      "metadata": {
        "id": "ZcowW5-i1JzV"
      },
      "source": [
        "### Hasil Evaluasi Collaborative Filtering\n",
        "\n",
        "Evaluasi untuk user `12748.0` dengan `top_k = 20` menghasilkan metrik berikut:\n",
        "\n",
        "- Precision@20 = 0.0\n",
        "- Recall@20 = 0.0\n",
        "- F1@20 = 0.0\n",
        "- MAP@20 = 0.0\n",
        "- NDCG@20 = 0.0"
      ]
    },
    {
      "cell_type": "code",
      "execution_count": 25,
      "metadata": {
        "colab": {
          "base_uri": "https://localhost:8080/"
        },
        "id": "GHB0z9hQEZXH",
        "outputId": "55f2bdfc-2dd7-42a6-df00-c6e0fda13999"
      },
      "outputs": [
        {
          "name": "stdout",
          "output_type": "stream",
          "text": [
            "Ground truth: ['22635', '22636', '22637', '22644', '22645', '22646', '22647', '22653', '22654', '22659', '22661', '22662', '22663', '22665', '22666', '22667', '22668', '22669', '22670', '22672', '22674', '22675', '22678', '22681', '22683', '22686', '22689', '22691', '22693', '22694', '22695', '22697', '22698', '22699', '22701', '22702', '22703', '22704', '22705', '22707', '22708', '22710', '22711', '22712', '22713', '22714', '22717', '22720', '22721', '22722', '22723', '22725', '22726', '22727', '22728', '22729', '22730', '22731', '22732', '22733', '22734', '22735', '22736', '22737', '22738', '22739', '22741', '22742', '22743', '22744', '22745', '22746', '22747', '22748', '22749', '22750', '22751', '22752', '22753', '22754', '22755', '22756', '22757', '22758', '22760', '22766', '22767', '22768', '22771', '22774', '22775', '22776', '22778', '22780', '22781', '22782', '22785', '22786', '22791', '22794', '22796', '22797', '22798', '22800', '22804', '22807', '22809', '22810', '22812', '22813', '22816', '22817', '22818', '22821', '22825', '22831', '22832', '22834', '22835', '22838', '22839', '22840', '22842', '22844', '22845', '22846', '22847', '22848', '22851', '22852', '22854', '22862', '22863', '22865', '22866', '22867', '22875', '22884', '22890', '22891', '22894', '22895', '22896', '22897', '22899', '22900', '22902', '22903', '22905', '22906', '22907', '22908', '22909', '22910', '22915', '22916', '22917', '22918', '22919', '22920', '22921', '22922', '22923', '22924', '22926', '22927', '22928', '22930', '22931', '22932', '22935', '22936', '22940', '22941', '22942', '22943', '22944', '22945', '22946', '22947', '22948', '22949', '22950', '22951', '22952', '22953', '22955', '22959', '22960', '22961', '22963', '22964', '22965', '22966', '22968', '22969', '22970', '22971', '22972', '22974', '22978', '22979', '22980', '22981', '22982', '22983', '22986', '22988', '22989', '22990', '22991', '22992', '22993', '22994', '22995', '22996', '22997', '22998', '22999', '23000', '23002', '23005', '23007', '23008', '23009', '23010', '23012', '23013', '23015', '23016', '23028', '23029', '23031', '23032', '23035', '23042', '23043', '23044', '23045', '23046', '23047', '23048', '23050', '23052', '23054', '23055', '23056', '23057', '23058', '23061', '23067', '23071', '23072', '23075', '23076', '23077', '23078', '23079', '23080', '23081', '23082', '23083', '23084', '23085', '23090', '23091', '23092', '23096', '23099', '23101', '23102', '23103', '23104', '23109', '23119', '23120', '23121', '23122', '23123', '23126', '23127', '23128', '23129', '23130', '23132', '23133', '23136', '23139', '23142', '23144', '23146', '23147', '23148', '23149', '23151', '23153', '23154', '23155', '23156', '23157', '23158', '23159', '23160', '23165', '23166', '23167', '23168', '23169', '23170', '23171', '23172', '23173', '23174', '23175', '23176', '23177', '23182', '23184', '23186', '23188', '23189', '23190', '23191', '23192', '23193', '23194', '23196', '23197', '23198', '23199', '23200', '23201', '23202', '23203', '23205', '23206', '23207', '23208', '23209', '23210', '23211', '23212', '23213', '23215', '23217', '23219', '23221', '23222', '23229', '23230', '23231', '23232', '23233', '23234', '23235', '23236', '23237', '23238', '23239', '23240', '23242', '23243', '23244', '23245', '23247', '23249', '23250', '23251', '23252', '23253', '23254', '23256', '23263', '23264', '23265', '23266', '23267', '23273', '23274', '23281', '23282', '23283', '23284', '23285', '23286', '23288', '23290', '23292', '23293', '23294', '23295', '23296', '23298', '23300', '23301', '23302', '23305', '23306', '23307', '23308', '23309', '23310', '23312', '23313', '23317', '23318', '23319', '23320', '23321', '23322', '23323', '23324', '23325', '23328', '23329', '23330', '23331', '23332', '23333', '23334', '23336', '23337', '23338', '23339', '23342', '23343', '23344', '23346', '23347', '23349', '23350', '23351', '23352', '23353', '23354', '23355', '23356', '23357', '23365', '23366', '23367', '23369', '23370', '23371', '23374', '23376', '23377', '23378', '23379', '23380', '23381', '23382', '23388', '23389', '23390', '23391', '23392', '23393', '23394', '23395', '23396', '23399', '23407', '23408', '23411', '23412', '23418', '23426', '23431', '23433', '23434', '23437', '23438', '23439', '23451', '23452', '23454', '23462', '23466', '23480', '23481', '23482', '23483', '23485', '23489', '23491', '23493', '23494', '23495', '23497', '23498', '23499', '23500', '23501', '23503', '23504', '23505', '23506', '23507', '23508', '23509', '23510', '23511', '23515', '23516', '23531', '23534', '23537', '23539', '23547', '23549', '23552', '23554', '23555', '23556', '23559', '23562', '23569', '23570', '23571', '23579', '23581', '23582', '23583', '23694', '23695', '23697', '35001W', '35004B', '35004G', '35241', '35265', '35443', '35471D', '35646', '35647', '35648', '35915B', '35933', '35954', '35958', '35961', '35964', '35965', '35968', '35970', '35971', '37327', '37340', '37342', '37370', '37413', '37446', '37449', '37468', '37475', '37479P', '37482P', '37489A', '37489B', '37489C', '37489D', '37500', '37501', '40001', '40016', '44242B', '46000M', '46000S', '46118', '47310M', '47348A', '47469', '47471', '47481', '47503A', '47504H', '47504K', '47559B', '47563A', '47566', '47566B', '47567B', '47590A', '47590B', '47591D', '47593B', '47594A', '47594B', '47599A', '47599B', '48111', '48116', '48138', '48184', '48187', '51008', '51014A', '51014C', '51014L', '51020A', '51020B', '62018', '70007', '71053', '71101E', '71403', '71406C', '71459', '71477', '72122', '72127', '72128', '72130', '72131', '72132', '72351A', '72351B', '72586', '72598', '72709', '72741', '72799C', '72799E', '72800E', '72802B', '72802C', '72803A', '72807C', '72817', '72818', '72819', '75013B', '75049L', '75131', '78034B', '79030G', '79066K', '79067', '79071B', '79149B', '79151B', '79161A', '79190B', '79191B', '79321', '79403', '81952V', '82482', '82494L', '82551', '82552', '82567', '82578', '82580', '82581', '82582', '82583', '82599', '82600', '82613D', '82616B', '82616C', '84006', '84012', '84029E', '84029G', '84032A', '84032B', '84050', '84077', '84199', '84206A', '84212', '84251G', '84279P', '84341B', '84347', '84356', '84375', '84378', '84380', '84406B', '84429A', '84457', '84459A', '84459B', '84509A', '84509B', '84509E', '84510A', '84519A', '84519B', '84531A', '84531B', '84535A', '84535B', '84536A', '84536B', '84558A', '84559B', '84563B', '84569A', '84569C', '84580', '84595E', '84596B', '84596E', '84596F', '84596G', '84596L', '84600', '84659A', '84660A', '84673A', '84673B', '84674', '84686', '84692', '84707B', '84709B', '84711A', '84748', '84754', '84755', '84763', '84789', '84792', '84795B', '84801A', '84813', '84827', '84828', '84836', '84847', '84849A', '84849B', '84849D', '84859A', '84859B', '84874B', '84875B', '84876B', '84877D', '84879', '84882', '84912B', '84927F', '84929', '84944', '84945', '84946', '84950', '84952B', '84952C', '84968E', '84970S', '84978', '84984A', '84984B', '84985A', '84987', '84988', '84991', '84992', '84993A', '84997A', '84997B', '84997C', '84997D', '85014A', '85017C', '85018D', '85019A', '85023B', '85027L', '85032A', '85032B', '85032C', '85032D', '85034B', '85034C', '85035A', '85035B', '85035C', '85036A', '85036B', '85036C', '85038', '85048', '85049A', '85049C', '85049D', '85049E', '85049G', '85053', '85054', '85059', '85066', '85071A', '85071B', '85071C', '85071D', '85086A', '85088', '85099B', '85099C', '85099F', '85104', '85107', '85118', '85123A', '85124C', '85127', '85132B', '85132C', '85135B', '85135C', '85136A', '85136C', '85150', '85152', '85159A', '85160B', '85161', '85167B', '85170C', '85172', '85175', '85178', '85179A', '85179C', '85183A', '85183B', '85184C', '85185B', '85187', '85199S', '85202', '85203', '85204', '85206A', '85208', '85211', '85212', '85214', '85215', '85227', '85230G', '85231B', '90003D', '90059B', '90059C', '90059E', '90059F', '90082B', '90082D', '90086', '90101', '90103', '90114', '90145', '90147', '90149', '90152A', '90154', '90155', '90160C', '90161A', '90170', '90177B', '90177D', '90180B', '90184A', '90184B', '90184C', '90194', '90198A', '90204', '90208', '90211A', '90214D', 'M', 'POST']\n",
            "Rekomendasi : ['84947', '22422', '16048', '22043', '82483', '22492', '21495', '22985', '82486', '23546', '23358', '21272', '21114', '22855', '85062', '23397', '22984', '22819', '35967', '22037']\n",
            "Metrik Eval : {'Precision@K': 0.0, 'Recall@K': 0.0, 'F1@K': 0, 'MAP@K': 0.0, 'NDCG@K': np.float64(0.0)}\n"
          ]
        }
      ],
      "source": [
        "result, ground_truth, recommended = evaluate_user(12748.0, top_k=20, return_debug=True)\n",
        "\n",
        "print(\"Ground truth:\", ground_truth)\n",
        "print(\"Rekomendasi :\", recommended)\n",
        "print(\"Metrik Eval :\", result)"
      ]
    },
    {
      "cell_type": "markdown",
      "metadata": {
        "id": "LNKMTuM01Lyt"
      },
      "source": [
        "### Analisis:\n",
        "\n",
        "Hasil evaluasi model Collaborative Filtering menunjukkan nilai nol pada seluruh metrik.  \n",
        "Hal ini disebabkan oleh **tidaknya ada overlap** antara produk yang direkomendasikan dan produk yang sebelumnya dibeli oleh user (ground truth).  \n",
        "Beberapa kemungkinan penyebab:\n",
        "- User `12748.0` merupakan **outlier** dengan jumlah interaksi sangat tinggi.\n",
        "- Produk yang dibeli tergolong **unik/niche**, tidak cukup umum untuk ditemukan oleh user lain.\n",
        "- Matrix user-item memiliki **sparsity tinggi**, menyebabkan sulitnya menemukan tetangga relevan.\n",
        "\n",
        "Meskipun demikian, proses evaluasi tetap dilakukan dan hasil ditampilkan secara transparan untuk menunjukkan keterbatasan CF pada kondisi tertentu."
      ]
    },
    {
      "cell_type": "markdown",
      "metadata": {
        "id": "Y-FOpwRU33FM"
      },
      "source": [
        "# Perbandingan Metrik Evaluasi: CBF vs CF\n",
        "Grafik berikut menunjukkan perbandingan nilai evaluasi dari kedua pendekatan sistem rekomendasi:\n",
        "- **CBF (Content-Based Filtering)**\n",
        "- **CF (Collaborative Filtering)**"
      ]
    },
    {
      "cell_type": "code",
      "execution_count": 26,
      "metadata": {
        "colab": {
          "base_uri": "https://localhost:8080/",
          "height": 607
        },
        "id": "S_O2Ah1Ux8N_",
        "outputId": "c047b05f-8b3d-41c6-f297-c2ef0e7ff607"
      },
      "outputs": [
        {
          "data": {
            "image/png": "[encoded data removed]",
            "text/plain": [
              "<Figure size 1000x600 with 1 Axes>"
            ]
          },
          "metadata": {},
          "output_type": "display_data"
        }
      ],
      "source": [
        "import matplotlib.pyplot as plt\n",
        "\n",
        "metrics = ['Precision@5', 'Recall@5', 'F1@5', 'MAP@5', 'NDCG@5']\n",
        "cbf_scores = [0.4, 0.0011, 0.0022, 0.3333, 0.5087]\n",
        "cf_scores = [0.0, 0.0, 0.0, 0.0, 0.0]\n",
        "\n",
        "x = range(len(metrics))\n",
        "\n",
        "plt.figure(figsize=(10, 6))\n",
        "plt.bar(x, cbf_scores, width=0.4, label='CBF', align='center')\n",
        "plt.bar([i + 0.4 for i in x], cf_scores, width=0.4, label='CF', align='center')\n",
        "\n",
        "plt.xticks([i + 0.2 for i in x], metrics)\n",
        "plt.ylabel('Score')\n",
        "plt.title('Perbandingan Evaluasi Model CBF vs CF')\n",
        "plt.legend()\n",
        "plt.grid(axis='y', linestyle='--', alpha=0.7)\n",
        "plt.tight_layout()\n",
        "plt.show()"
      ]
    },
    {
      "cell_type": "markdown",
      "metadata": {
        "id": "uGROW8Gf3494"
      },
      "source": [
        "CBF menghasilkan skor yang jauh lebih baik dibanding CF, terutama pada Precision, MAP, dan NDCG. Hal ini menunjukkan bahwa dalam konteks dataset ini, pendekatan berbasis konten lebih cocok digunakan."
      ]
    }
  ],
  "metadata": {
    "colab": {
      "provenance": []
    },
    "kernelspec": {
      "display_name": "Python 3",
      "name": "python3"
    },
    "language_info": {
      "codemirror_mode": {
        "name": "ipython",
        "version": 3
      },
      "file_extension": ".py",
      "mimetype": "text/x-python",
      "name": "python",
      "nbconvert_exporter": "python",
      "pygments_lexer": "ipython3",
      "version": "3.11.0b4"
    }
  },
  "nbformat": 4,
  "nbformat_minor": 0
}
